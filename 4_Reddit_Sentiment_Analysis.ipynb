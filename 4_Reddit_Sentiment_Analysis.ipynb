{
  "cells": [
    {
      "cell_type": "markdown",
      "metadata": {
        "id": "roiJtRn_iHMu"
      },
      "source": [
        "# Reddit Uber Driver Sentiment Analyisi   "
      ]
    },
    {
      "cell_type": "code",
      "execution_count": null,
      "metadata": {
        "colab": {
          "base_uri": "https://localhost:8080/"
        },
        "collapsed": true,
        "id": "ef33tFuKjFCJ",
        "outputId": "c638d2f1-2538-4e5a-fb6c-f5e2a8a5fa66"
      },
      "outputs": [],
      "source": [
        "pip install praw nltk pandas matplotlib"
      ]
    },
    {
      "cell_type": "code",
      "execution_count": 18,
      "metadata": {
        "colab": {
          "base_uri": "https://localhost:8080/"
        },
        "id": "ez6cWfkQiHMv",
        "outputId": "785ddafe-746b-400d-e8b2-a48e07cb50e0"
      },
      "outputs": [
        {
          "name": "stderr",
          "output_type": "stream",
          "text": [
            "[nltk_data] Downloading package vader_lexicon to /root/nltk_data...\n",
            "[nltk_data]   Package vader_lexicon is already up-to-date!\n",
            "WARNING:praw:It appears that you are using PRAW in an asynchronous environment.\n",
            "It is strongly recommended to use Async PRAW: https://asyncpraw.readthedocs.io.\n",
            "See https://praw.readthedocs.io/en/latest/getting_started/multiple_instances.html#discord-bots-and-asynchronous-environments for more info.\n",
            "\n"
          ]
        }
      ],
      "source": [
        "import praw\n",
        "import pandas as pd\n",
        "import matplotlib.pyplot as plt\n",
        "import nltk\n",
        "from nltk.sentiment import SentimentIntensityAnalyzer\n",
        "import time\n",
        "\n",
        "# Download VADER sentiment analyzer\n",
        "nltk.download('vader_lexicon')"
      ]
    },
    {
      "cell_type": "code",
      "execution_count": null,
      "metadata": {
        "id": "a8j4NuBMmTbU"
      },
      "outputs": [],
      "source": [
        "\n",
        "# Reddit API credentials\n",
        "reddit = praw.Reddit(\n",
        "    client_id=\"Zp5-2K-IwqlZC8JKh1iB0Q\",\n",
        "    client_secret=\"nBVSmXVEyElxfpy-bjN_P-KFg4ikFQ\",\n",
        "    user_agent=\"SentimentAnalysis\"\n",
        ")\n",
        "\n",
        "# Function to fetch posts\n",
        "def fetch_reddit_posts(subreddit_name, limit=50):\n",
        "    subreddit = reddit.subreddit(subreddit_name)\n",
        "    posts = []\n",
        "\n",
        "    for submission in subreddit.hot(limit=limit):\n",
        "        posts.append({\n",
        "            \"title\": submission.title,\n",
        "            \"text\": submission.selftext,\n",
        "            \"url\": submission.url\n",
        "        })\n",
        "        time.sleep(1)  # To avoid rate-limiting\n",
        "\n",
        "    return pd.DataFrame(posts)\n",
        "\n",
        "# Function to perform sentiment analysis\n",
        "def analyze_sentiment(df):\n",
        "    sia = SentimentIntensityAnalyzer()\n",
        "    sentiments = []\n",
        "\n",
        "    for _, row in df.iterrows():\n",
        "        text = row[\"title\"] + \" \" + row[\"text\"]\n",
        "        sentiment = sia.polarity_scores(text)\n",
        "        sentiments.append(sentiment[\"compound\"])\n",
        "\n",
        "    df[\"sentiment\"] = sentiments\n",
        "    df[\"sentiment_label\"] = df[\"sentiment\"].apply(lambda x: \"Positive\" if x > 0.05 else (\"Negative\" if x < -0.05 else \"Neutral\"))\n",
        "\n",
        "    return df\n",
        "\n",
        "# Fetch and analyze posts\n",
        "subreddit_name = \"uberdrivers\"\n",
        "df = fetch_reddit_posts(subreddit_name, limit=100)\n",
        "df = analyze_sentiment(df)\n"
      ]
    },
    {
      "cell_type": "code",
      "execution_count": 22,
      "metadata": {
        "colab": {
          "base_uri": "https://localhost:8080/",
          "height": 936
        },
        "id": "2RLIj2TdjaAe",
        "outputId": "9e032f8d-5239-4fe2-d4e3-e3c8ac623d71"
      },
      "outputs": [
        {
          "name": "stdout",
          "output_type": "stream",
          "text": [
            "| sentiment_label   |   sentiment | title                                                                                         | text                                                                                                                                                                                                                                                                                                                                                                                                           |\n",
            "|:------------------|------------:|:----------------------------------------------------------------------------------------------|:---------------------------------------------------------------------------------------------------------------------------------------------------------------------------------------------------------------------------------------------------------------------------------------------------------------------------------------------------------------------------------------------------------------|\n",
            "| Negative          |     -0.34   | Dude accepted the ride and drove miles away 😤                                                | Fuck multitasking                                                                                                                                                                                                                                                                                                                                                                                              |\n",
            "| Negative          |     -0.5106 | Immigrant drivers                                                                             | I wonder how UBER is getting away hiring these immigrants to driver when they are using fake drivers license, multiple accounts, and most of them don't speak English.  It is for us American born drivers to make a living.  UBER needs to add to the passenger app that the customer would like a English speaking driver to haul them.  I get complaints about the drivers not being able to speak English. |\n",
            "| Positive          |      0.765  | ELI65: Pax I had at 11pm texts me at midnight: “Let me know if you’re still trying to party.” | Luckily Uber didn’t relay my 2am response.                                                                                                                                                                                                                                                                                                                                                                     |\n",
            "|                   |             |                                                                                               |                                                                                                                                                                                                                                                                                                                                                                                                                |\n",
            "|                   |             |                                                                                               | Was this likely about sex (both male, not my thing), or drugs (also not my thing), or simply going to fun places?                                                                                                                                                                                                                                                                                              |\n",
            "| Positive          |      0.9292 | Tips for new drivers?                                                                         | I’m waiting for my background to clear so I’m just running deliveries right now but I plan to mostly do rides. Anything you wish you knew before you started? What’s your $$/distance threshold?                                                                                                                                                                                                               |\n",
            "|                   |             |                                                                                               |                                                                                                                                                                                                                                                                                                                                                                                                                |\n",
            "|                   |             |                                                                                               | I’ll be driving in a pretty active metropolitan area. Trying this out bc I took a ride a couple weeks ago and my driver said she makes $200-300 a day without driving nights or weekends.                                                                                                                                                                                                                      |\n",
            "| Negative          |     -0.4329 | Avis Credit Check                                                                             | I have a 580 via Equifax and using a debit card, I know it’s bad part of the reason I’m doing Ubers. I’m working on fixing it. I also know it sucks to rent, but this is my only option.                                                                                                                                                                                                                       |\n",
            "|                   |             |                                                                                               |                                                                                                                                                                                                                                                                                                                                                                                                                |\n",
            "|                   |             |                                                                                               | What’s the chance I’ll be able to get a car via Avis? What do they look for in their soft check?                                                                                                                                                                                                                                                                                                               |\n",
            "|                   |             |                                                                                               |                                                                                                                                                                                                                                                                                                                                                                                                                |\n",
            "|                   |             |                                                                                               | I used to rent with Hertz and had no issues, however they are not an option in my area anymore.                                                                                                                                                                                                                                                                                                                |\n",
            "| Positive          |      0.5106 | Can’t trust these 16 year olds                                                                | https://6abc.com/us--world-uber-machete-hacking/2060795/                                                                                                                                                                                                                                                                                                                                                       |\n",
            "| Positive          |      0.2752 | Why is the pay so terrible now?                                                               | I’ll get offers for like 30 minute trips that only pay like 12 dollars. I have done uber on and off and i feel that the money was much better when i started about five years ago.                                                                                                                                                                                                                             |\n",
            "| Positive          |      0.8176 | One in a thousand.                                                                            | Family was super nice, too.                                                                                                                                                                                                                                                                                                                                                                                    |\n",
            "|                   |             |                                                                                               |                                                                                                                                                                                                                                                                                                                                                                                                                |\n",
            "|                   |             |                                                                                               | From Argentina, doing four Florida cities over a month.                                                                                                                                                                                                                                                                                                                                                        |\n",
            "|                   |             |                                                                                               |                                                                                                                                                                                                                                                                                                                                                                                                                |\n",
            "|                   |             |                                                                                               | Dad, wife, two daughters. I got to use my broken Spanish with them and they loved it.                                                                                                                                                                                                                                                                                                                          |\n",
            "| Positive          |      0.658  | POD TEST                                                                                      | Check out our new rideshare podcast! Please like and subscribe!                                                                                                                                                                                                                                                                                                                                                |\n",
            "| Negative          |     -0.4767 | Noticing lower pay                                                                            | Has ubered lowered the percentage the driver gets even more recently? I’ve noticed more trip requests that are around 30min in the single digit $amount                                                                                                                                                                                                                                                        |\n"
          ]
        },
        {
          "data": {
            "image/png": "[encoded data removed]",
            "text/plain": [
              "<Figure size 800x500 with 1 Axes>"
            ]
          },
          "metadata": {},
          "output_type": "display_data"
        }
      ],
      "source": [
        "\n",
        "# Display results\n",
        "print(df.tail(10)[[\"sentiment_label\", \"sentiment\", \"title\", \"text\"]].to_markdown(index=False))\n",
        "\n",
        "# Plot sentiment distribution\n",
        "plt.figure(figsize=(8, 5))\n",
        "df[\"sentiment_label\"].value_counts().plot(kind=\"bar\", color=[\"green\", \"gray\", \"red\"])\n",
        "plt.title(\"Sentiment Distribution of r/uberdrivers Posts\")\n",
        "plt.xlabel(\"Sentiment\")\n",
        "plt.ylabel(\"Count\")\n",
        "plt.xticks(rotation=0)\n",
        "plt.show()"
      ]
    },
    {
      "cell_type": "code",
      "execution_count": null,
      "metadata": {
        "id": "YvOokjBRk1c5"
      },
      "outputs": [],
      "source": []
    }
  ],
  "metadata": {
    "colab": {
      "provenance": []
    },
    "kernelspec": {
      "display_name": "Python 3",
      "name": "python3"
    },
    "language_info": {
      "name": "python"
    }
  },
  "nbformat": 4,
  "nbformat_minor": 0
}
